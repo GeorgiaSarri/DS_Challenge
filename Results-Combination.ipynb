{
 "cells": [
  {
   "cell_type": "markdown",
   "metadata": {},
   "source": [
    "## Ensemble Graph and Document Models from Graph Classification and Text-Classification notebooks"
   ]
  },
  {
   "cell_type": "code",
   "execution_count": 2,
   "metadata": {},
   "outputs": [
    {
     "name": "stdout",
     "output_type": "stream",
     "text": [
      "The autoreload extension is already loaded. To reload it, use:\n",
      "  %reload_ext autoreload\n"
     ]
    }
   ],
   "source": [
    "from sklearn.svm import SVC\n",
    "from sklearn.model_selection import train_test_split\n",
    "from sklearn.metrics import log_loss\n",
    "\n",
    "import csv\n",
    "import networkx as nx\n",
    "import numpy as np\n",
    "import pickle\n",
    "import os \n",
    "import gc\n",
    "\n",
    "from random import randint\n",
    "from gensim.models import Word2Vec\n",
    "import os\n",
    "%load_ext autoreload\n",
    "%autoreload 2\n",
    "from tensorflow import set_random_seed\n",
    "from keras.models import load_model\n",
    "import sys\n",
    "sys.path.insert(0,'C:/Users/User/Desktop/DS_challenge/')\n",
    "from GraphEmbedding.ge import DeepWalk\n",
    "\n",
    "from sklearn.svm import SVC\n",
    "from sklearn.model_selection import train_test_split\n",
    "from sklearn.metrics import log_loss\n",
    "\n",
    "import seaborn as sn\n",
    "import pandas as pd\n",
    "from sklearn.metrics import confusion_matrix\n",
    "import matplotlib.pyplot as plt\n",
    "%matplotlib inline\n",
    "\n",
    "from sklearn.metrics import log_loss\n",
    "from sklearn.model_selection import train_test_split\n",
    "from sklearn.svm import SVC\n",
    "from sklearn.model_selection import train_test_split\n",
    "from sklearn.metrics import log_loss\n",
    "from statistics import mean \n",
    "import random\n",
    "\n",
    "import sklearn as sk\n",
    "from sklearn.svm import SVC\n",
    "from sklearn.model_selection import train_test_split\n",
    "from sklearn.metrics import log_loss\n",
    "from sklearn.metrics import classification_report\n",
    "from sklearn.metrics import confusion_matrix\n",
    "from sklearn.feature_extraction.text import TfidfVectorizer\n",
    "from sklearn.decomposition import TruncatedSVD\n",
    "from scipy.sparse import hstack\n",
    "from scipy.sparse import coo_matrix\n",
    "\n",
    "import keras\n",
    "from keras.layers import Input\n",
    "from keras.layers import Embedding\n",
    "from keras.layers import Conv1D,GlobalMaxPooling1D\n",
    "from keras.layers import Dropout,Dense,Concatenate\n",
    "from keras.callbacks import EarlyStopping, ModelCheckpoint, ReduceLROnPlateau\n",
    "from keras.models import Model\n",
    "from keras.optimizers import Adam\n",
    "from keras.regularizers import l2\n",
    "from keras.models import load_model\n",
    "from keras import backend as K\n",
    "\n",
    "import warnings\n",
    "warnings.filterwarnings('ignore')\n",
    "import keras as k"
   ]
  },
  {
   "cell_type": "markdown",
   "metadata": {},
   "source": [
    "# Load Data"
   ]
  },
  {
   "cell_type": "code",
   "execution_count": 3,
   "metadata": {},
   "outputs": [],
   "source": [
    "dir_path = r'C:\\Users\\User\\Desktop\\DS_challenge\\data\\\\'\n",
    "TRAIN_FILE = dir_path + \"train.csv\"\n",
    "TEST_FILE = dir_path + \"test.csv\"\n",
    "GRAPH_FILE = dir_path + \"edgelist.txt\"\n",
    "domains_path = 'C:/Users/User/Desktop/DS_challenge/data/data_science_challenge_2019/domains/'\n",
    "\n",
    "class_labels = {'athlitismos':0, 'diaskedasi-psyxagogia':1, 'eidiseis-mme':2, 'katastimata-agores':3, 'pliroforiki-diadiktyo':4}\n",
    "\n",
    "train_hosts = list()\n",
    "train_labels = list()\n",
    "with open(TRAIN_FILE, 'r') as f:\n",
    "    for line in f:\n",
    "        l = line.split(',')\n",
    "        train_hosts.append(l[0])\n",
    "        train_labels.append(l[1][:-1])\n",
    "\n",
    "y_train_class = []\n",
    "y_train_dum = np.zeros((len(train_hosts), len(class_labels)))\n",
    "for i, train_label in enumerate(train_labels):\n",
    "    y_train_dum[i,class_labels[train_label]] = 1\n",
    "    y_train_class.append(class_labels[train_label])\n",
    "    \n",
    "test_hosts = list()\n",
    "with open(TEST_FILE, 'r') as f:\n",
    "    for line in f:\n",
    "        l = line.split(',')\n",
    "        test_hosts.append(l[0])"
   ]
  },
  {
   "cell_type": "markdown",
   "metadata": {},
   "source": [
    "**Graph Data**"
   ]
  },
  {
   "cell_type": "code",
   "execution_count": 4,
   "metadata": {},
   "outputs": [],
   "source": [
    "serialized_w2v_100_path = 'C:/Users/User/Desktop/DS_challenge/data/serialized_objects/graph_emb/test_emb.pickle'\n",
    "with open(serialized_w2v_100_path, 'rb') as file:\n",
    "        X_train_G = pickle.load(file)\n",
    "        \n",
    "serialized_w2v_100_path = 'C:/Users/User/Desktop/DS_challenge/data/serialized_objects/graph_emb/train_emb.pickle'\n",
    "with open(serialized_w2v_100_path, 'rb') as file:\n",
    "        X_test_G = pickle.load(file)"
   ]
  },
  {
   "cell_type": "markdown",
   "metadata": {},
   "source": [
    "**Text Data**"
   ]
  },
  {
   "cell_type": "code",
   "execution_count": 43,
   "metadata": {},
   "outputs": [],
   "source": [
    "serialized_docs_train_dir = 'C:/Users/User/Desktop/DS_challenge/data/serialized_objects/train_all/'\n",
    "filenames = os.listdir(serialized_docs_train_dir)\n",
    "\n",
    "train_data = []\n",
    "y_train_tfidf = []\n",
    "for idx, file in enumerate(filenames):\n",
    "    with open(serialized_docs_train_dir + 'dict.pickle_' + str(idx), 'rb') as file:\n",
    "        doc = pickle.load(file)\n",
    "        train_data.append(doc['x_list'])               \n",
    "        y_train_tfidf.append(doc['y'])\n",
    "        \n",
    "serialized_docs_test_dir = 'C:/Users/User/Desktop/DS_challenge/data/serialized_objects/test_all/'\n",
    "filenames = os.listdir(serialized_docs_test_dir)\n",
    "\n",
    "test_data = []\n",
    "for idx, file in enumerate(filenames):\n",
    "    with open(serialized_docs_test_dir + 'dict.pickle_' + str(idx), 'rb') as file:\n",
    "        doc = pickle.load(file)\n",
    "        test_data.append(doc['x_list'])\n",
    "        \n",
    "train_text = []\n",
    "y_train_doc = []\n",
    "\n",
    "train_text_idx = []\n",
    "train_no_text_idx = []\n",
    "train_text_index_map = {}\n",
    "counter = 0\n",
    "\n",
    "y_no_text = []\n",
    "for idx, doc in enumerate(train_data):\n",
    "    if len(doc) != 0:\n",
    "        train_text.append(' '.join(doc))\n",
    "        y_train_doc.append(y_train_tfidf[idx])\n",
    "        train_text_idx.append(idx)    \n",
    "        train_text_index_map[idx] = counter\n",
    "        counter+=1\n",
    "    else:\n",
    "        y_no_text.append(y_train_tfidf[idx])\n",
    "        train_no_text_idx.append(idx)\n",
    "        \n",
    "y_train_doc = np.array(y_train_doc)\n",
    "\n",
    "test_text = []\n",
    "test_text_idx = []\n",
    "test_no_text_idx = []\n",
    "test_text_index_map = {}\n",
    "counter = 0\n",
    "for idx, doc in enumerate(test_data):\n",
    "    if len(doc) != 0:          \n",
    "        test_text.append(' '.join(doc))\n",
    "        test_text_idx.append(idx)\n",
    "        test_text_index_map[idx] = counter        \n",
    "        counter+=1\n",
    "    else:        \n",
    "        test_no_text_idx.append(idx)"
   ]
  },
  {
   "cell_type": "markdown",
   "metadata": {},
   "source": [
    "**TF-IDF for MLP**"
   ]
  },
  {
   "cell_type": "code",
   "execution_count": 5,
   "metadata": {},
   "outputs": [],
   "source": [
    "all_text = np.concatenate((train_text, test_text))\n",
    "\n",
    "word_vectorizer = TfidfVectorizer(\n",
    "    sublinear_tf=True,\n",
    "    strip_accents='unicode',\n",
    "    decode_error='ignore',\n",
    "    analyzer='word',\n",
    "    ngram_range=(1, 2),\n",
    "#     max_df=0.7,\n",
    "#     min_df=0.05,\n",
    "    lowercase=False,\n",
    "    max_features=5000)\n",
    "word_vectorizer.fit(all_text)\n",
    "\n",
    "char_vectorizer = TfidfVectorizer(\n",
    "    sublinear_tf=True,\n",
    "    strip_accents='unicode',\n",
    "    decode_error='ignore',\n",
    "    analyzer='char',\n",
    "    max_df=0.5,\n",
    "    min_df=0.2,\n",
    "    ngram_range=(3, 5),\n",
    "    max_features=3000,\n",
    "    lowercase=False)\n",
    "char_vectorizer.fit(all_text)\n",
    "\n",
    "train_word_features = word_vectorizer.transform(train_text)\n",
    "test_word_features = word_vectorizer.transform(test_text)\n",
    "\n",
    "train_char_features = char_vectorizer.transform(train_text)\n",
    "test_char_features = char_vectorizer.transform(test_text)\n",
    "\n",
    "train_features = hstack([train_char_features, train_word_features])\n",
    "test_features = hstack([test_char_features, test_word_features])"
   ]
  },
  {
   "cell_type": "markdown",
   "metadata": {},
   "source": [
    "**LSI on TF-IDF**"
   ]
  },
  {
   "cell_type": "code",
   "execution_count": 42,
   "metadata": {},
   "outputs": [],
   "source": [
    "svd = TruncatedSVD(n_components=1000, random_state=2)\n",
    "train_features_svd = svd.fit_transform(train_features)\n",
    "test_features_svd = svd.transform(test_features)"
   ]
  },
  {
   "cell_type": "markdown",
   "metadata": {},
   "source": [
    "### Serialize"
   ]
  },
  {
   "cell_type": "code",
   "execution_count": 44,
   "metadata": {},
   "outputs": [],
   "source": [
    "'''\n",
    "# Save pickles\n",
    "features_dir = 'C:/Users/User/Desktop/DS_challenge/data/serialized_objects/gen_features/'\n",
    "filename = 'train_tf_idf'\n",
    "pickle_out = open(features_dir + filename,\"wb\")\n",
    "pickle.dump(train_features, pickle_out)\n",
    "pickle_out.close()\n",
    "\n",
    "filename = 'test_tf_idf'\n",
    "pickle_out = open(features_dir + filename,\"wb\")\n",
    "pickle.dump(test_features, pickle_out)\n",
    "pickle_out.close()\n",
    "\n",
    "filename = 'train_LSA'\n",
    "pickle_out = open(features_dir + filename,\"wb\")\n",
    "pickle.dump(train_features_svd, pickle_out)\n",
    "pickle_out.close()\n",
    "\n",
    "filename = 'test_LSA'\n",
    "pickle_out = open(features_dir + filename,\"wb\")\n",
    "pickle.dump(test_features_svd, pickle_out)\n",
    "pickle_out.close()\n",
    "'''\n",
    "\n",
    "#tfidf_8000_train\n",
    "path_train_tfidf = 'C:/Users/User/Desktop/DS_challenge/data/serialized_objects/gen_features/train_tf_idf'\n",
    "with open(path_train_tfidf, 'rb') as file:\n",
    "        train_features = pickle.load(file)\n",
    "        \n",
    "#tfidf_8000_test    \n",
    "path_test_tfidf = 'C:/Users/User/Desktop/DS_challenge/data/serialized_objects/gen_features/test_tf_idf'\n",
    "with open(path_test_tfidf, 'rb') as file:\n",
    "        test_features = pickle.load(file)\n",
    "        \n",
    "# #LSA_1000_train\n",
    "# path_train_tfidf = 'C:/Users/User/Desktop/DS_challenge/data/serialized_objects/gen_features/train_LSA'\n",
    "# with open(path_train_tfidf, 'rb') as file:\n",
    "#         train_features_svd = pickle.load(file)\n",
    "        \n",
    "# #LSA_100_test    \n",
    "# path_test_tfidf = 'C:/Users/User/Desktop/DS_challenge/data/serialized_objects/gen_features/test_LSA'\n",
    "# with open(path_test_tfidf, 'rb') as file:\n",
    "#         test_features_svd = pickle.load(file)\n"
   ]
  },
  {
   "cell_type": "code",
   "execution_count": 12,
   "metadata": {},
   "outputs": [],
   "source": [
    "svd = TruncatedSVD(n_components=1000, random_state=2)\n",
    "train_features_svd = svd.fit_transform(train_features)\n",
    "test_features_svd = svd.transform(test_features)"
   ]
  },
  {
   "cell_type": "code",
   "execution_count": 44,
   "metadata": {},
   "outputs": [
    {
     "data": {
      "text/plain": [
       "(676, 676)"
      ]
     },
     "execution_count": 44,
     "metadata": {},
     "output_type": "execute_result"
    }
   ],
   "source": [
    "train_features_svd.shape"
   ]
  },
  {
   "cell_type": "markdown",
   "metadata": {},
   "source": [
    "**MLP for LSA and tf-idf**"
   ]
  },
  {
   "cell_type": "code",
   "execution_count": 40,
   "metadata": {},
   "outputs": [],
   "source": [
    "def MLP_model(\n",
    "    input_size,\n",
    "    optimizer,    \n",
    "    classes=5,  \n",
    "    epochs=100,\n",
    "    batch_size=128,\n",
    "    hidden_layers=1,\n",
    "    units = 600,\n",
    "    dropout_rate = 0.5,\n",
    "    funnel = True,\n",
    "    hidden_activation='relu',\n",
    "    output_activation='softmax'\n",
    "):\n",
    "  \n",
    "    # Define the seed for numpy and Tensorflow to have reproducible experiments.\n",
    "    np.random.seed(23) \n",
    "    set_random_seed(452)\n",
    "       \n",
    "    input = Input(\n",
    "        shape=(input_size,),\n",
    "        name='Input'\n",
    "    )\n",
    "    x = input\n",
    "#     x = Dropout(dropout_rate)(x)\n",
    "    print(x.shape)\n",
    "    # Define the hidden layers.\n",
    "    for i in range(hidden_layers):\n",
    "        if funnel:\n",
    "            layer_units=units // (i+1)\n",
    "        else: \n",
    "            layer_units=units\n",
    "        x = Dense(\n",
    "           units=layer_units,\n",
    "           kernel_initializer='glorot_uniform',\n",
    "           activation=hidden_activation,\n",
    "           name='Hidden-{0:d}'.format(i + 1)\n",
    "        )(x)\n",
    "     #   x = BatchNormalization()(x)\n",
    "     #   x = BatchNormalization(x)\n",
    "        #Dropout\n",
    "        x = Dropout(dropout_rate)(x)\n",
    "\n",
    "        \n",
    "    # Define the output layer.    \n",
    "    output = Dense(\n",
    "        units=classes,\n",
    "        kernel_initializer='uniform',\n",
    "        activation=output_activation,\n",
    "        name='Output'\n",
    "    )(x)\n",
    "    # Define the model and train it.\n",
    "    model = Model(inputs=input, outputs=output)\n",
    "      \n",
    "    model.compile(optimizer=optimizer, loss='categorical_crossentropy', metrics=['categorical_crossentropy', 'accuracy'])\n",
    "    \n",
    "    return model"
   ]
  },
  {
   "cell_type": "markdown",
   "metadata": {},
   "source": [
    "### Models to ensemble"
   ]
  },
  {
   "cell_type": "code",
   "execution_count": 41,
   "metadata": {},
   "outputs": [],
   "source": [
    "batch_size = 128\n",
    "num_classes = 5\n",
    "epochs = 200\n",
    "optimizer = Adam(lr=0.00023)\n",
    "\n",
    "# model_MLP = MLP_model(\n",
    "#     optimizer=optimizer,\n",
    "#     input_size=X_tra.shape[1],\n",
    "#     dropout_rate = 0.7,\n",
    "#     hidden_layers=3,\n",
    "#     units=1000,\n",
    "#     funnel=True\n",
    "# )\n",
    "\n",
    "# Keras Callbacks\n",
    "reducer_lr = ReduceLROnPlateau(factor = 0.00002, patience = 3, min_lr = 1e-6, verbose = -1)\n",
    "early_stopper = keras.callbacks.EarlyStopping(monitor='val_categorical_crossentropy', mode='min', patience = 20) # Change 4 to 8 in the final run\n",
    "model_file_name = 'tfidf_mlp'\n",
    "check_pointer = keras.callbacks.ModelCheckpoint(model_file_name, monitor='val_categorical_crossentropy', mode='min', verbose = -1, save_best_only = True)  \n",
    "callbacks_list = [early_stopper, reducer_lr, check_pointer]#"
   ]
  },
  {
   "cell_type": "code",
   "execution_count": 42,
   "metadata": {
    "collapsed": true
   },
   "outputs": [
    {
     "name": "stdout",
     "output_type": "stream",
     "text": [
      "573 103\n",
      "(?, 8000)\n",
      "Train on 573 samples, validate on 103 samples\n",
      "Epoch 1/200\n"
     ]
    },
    {
     "ename": "InternalError",
     "evalue": "Blas GEMM launch failed : a.shape=(128, 8000), b.shape=(8000, 1100), m=128, n=1100, k=8000\n\t [[{{node Hidden-1/MatMul}} = MatMul[T=DT_FLOAT, _class=[\"loc:@training/Adam/gradients/Hidden-1/MatMul_grad/MatMul_1\"], transpose_a=false, transpose_b=false, _device=\"/job:localhost/replica:0/task:0/device:GPU:0\"](_arg_Input_0_0/_89, Hidden-1/kernel/read)]]\n\t [[{{node metrics/categorical_crossentropy/Mean/_117}} = _Recv[client_terminated=false, recv_device=\"/job:localhost/replica:0/task:0/device:CPU:0\", send_device=\"/job:localhost/replica:0/task:0/device:GPU:0\", send_device_incarnation=1, tensor_name=\"edge_793_metrics/categorical_crossentropy/Mean\", tensor_type=DT_FLOAT, _device=\"/job:localhost/replica:0/task:0/device:CPU:0\"]()]]",
     "output_type": "error",
     "traceback": [
      "\u001b[1;31m---------------------------------------------------------------------------\u001b[0m",
      "\u001b[1;31mInternalError\u001b[0m                             Traceback (most recent call last)",
      "\u001b[1;32m<ipython-input-42-63a1220d81bb>\u001b[0m in \u001b[0;36m<module>\u001b[1;34m\u001b[0m\n\u001b[0;32m     55\u001b[0m               \u001b[0mverbose\u001b[0m\u001b[1;33m=\u001b[0m\u001b[1;36m1\u001b[0m\u001b[1;33m,\u001b[0m\u001b[1;33m\u001b[0m\u001b[1;33m\u001b[0m\u001b[0m\n\u001b[0;32m     56\u001b[0m               \u001b[0mbatch_size\u001b[0m\u001b[1;33m=\u001b[0m\u001b[0mbatch_size\u001b[0m\u001b[1;33m,\u001b[0m\u001b[1;33m\u001b[0m\u001b[1;33m\u001b[0m\u001b[0m\n\u001b[1;32m---> 57\u001b[1;33m               \u001b[0mcallbacks\u001b[0m \u001b[1;33m=\u001b[0m \u001b[0mcallbacks_list\u001b[0m\u001b[1;33m\u001b[0m\u001b[1;33m\u001b[0m\u001b[0m\n\u001b[0m\u001b[0;32m     58\u001b[0m          )    \n\u001b[0;32m     59\u001b[0m \u001b[1;33m\u001b[0m\u001b[0m\n",
      "\u001b[1;32m~\\Anaconda3\\envs\\GPU\\lib\\site-packages\\keras\\engine\\training.py\u001b[0m in \u001b[0;36mfit\u001b[1;34m(self, x, y, batch_size, epochs, verbose, callbacks, validation_split, validation_data, shuffle, class_weight, sample_weight, initial_epoch, steps_per_epoch, validation_steps, **kwargs)\u001b[0m\n\u001b[0;32m   1037\u001b[0m                                         \u001b[0minitial_epoch\u001b[0m\u001b[1;33m=\u001b[0m\u001b[0minitial_epoch\u001b[0m\u001b[1;33m,\u001b[0m\u001b[1;33m\u001b[0m\u001b[1;33m\u001b[0m\u001b[0m\n\u001b[0;32m   1038\u001b[0m                                         \u001b[0msteps_per_epoch\u001b[0m\u001b[1;33m=\u001b[0m\u001b[0msteps_per_epoch\u001b[0m\u001b[1;33m,\u001b[0m\u001b[1;33m\u001b[0m\u001b[1;33m\u001b[0m\u001b[0m\n\u001b[1;32m-> 1039\u001b[1;33m                                         validation_steps=validation_steps)\n\u001b[0m\u001b[0;32m   1040\u001b[0m \u001b[1;33m\u001b[0m\u001b[0m\n\u001b[0;32m   1041\u001b[0m     def evaluate(self, x=None, y=None,\n",
      "\u001b[1;32m~\\Anaconda3\\envs\\GPU\\lib\\site-packages\\keras\\engine\\training_arrays.py\u001b[0m in \u001b[0;36mfit_loop\u001b[1;34m(model, f, ins, out_labels, batch_size, epochs, verbose, callbacks, val_f, val_ins, shuffle, callback_metrics, initial_epoch, steps_per_epoch, validation_steps)\u001b[0m\n\u001b[0;32m    197\u001b[0m                     \u001b[0mins_batch\u001b[0m\u001b[1;33m[\u001b[0m\u001b[0mi\u001b[0m\u001b[1;33m]\u001b[0m \u001b[1;33m=\u001b[0m \u001b[0mins_batch\u001b[0m\u001b[1;33m[\u001b[0m\u001b[0mi\u001b[0m\u001b[1;33m]\u001b[0m\u001b[1;33m.\u001b[0m\u001b[0mtoarray\u001b[0m\u001b[1;33m(\u001b[0m\u001b[1;33m)\u001b[0m\u001b[1;33m\u001b[0m\u001b[1;33m\u001b[0m\u001b[0m\n\u001b[0;32m    198\u001b[0m \u001b[1;33m\u001b[0m\u001b[0m\n\u001b[1;32m--> 199\u001b[1;33m                 \u001b[0mouts\u001b[0m \u001b[1;33m=\u001b[0m \u001b[0mf\u001b[0m\u001b[1;33m(\u001b[0m\u001b[0mins_batch\u001b[0m\u001b[1;33m)\u001b[0m\u001b[1;33m\u001b[0m\u001b[1;33m\u001b[0m\u001b[0m\n\u001b[0m\u001b[0;32m    200\u001b[0m                 \u001b[0mouts\u001b[0m \u001b[1;33m=\u001b[0m \u001b[0mto_list\u001b[0m\u001b[1;33m(\u001b[0m\u001b[0mouts\u001b[0m\u001b[1;33m)\u001b[0m\u001b[1;33m\u001b[0m\u001b[1;33m\u001b[0m\u001b[0m\n\u001b[0;32m    201\u001b[0m                 \u001b[1;32mfor\u001b[0m \u001b[0ml\u001b[0m\u001b[1;33m,\u001b[0m \u001b[0mo\u001b[0m \u001b[1;32min\u001b[0m \u001b[0mzip\u001b[0m\u001b[1;33m(\u001b[0m\u001b[0mout_labels\u001b[0m\u001b[1;33m,\u001b[0m \u001b[0mouts\u001b[0m\u001b[1;33m)\u001b[0m\u001b[1;33m:\u001b[0m\u001b[1;33m\u001b[0m\u001b[1;33m\u001b[0m\u001b[0m\n",
      "\u001b[1;32m~\\Anaconda3\\envs\\GPU\\lib\\site-packages\\keras\\backend\\tensorflow_backend.py\u001b[0m in \u001b[0;36m__call__\u001b[1;34m(self, inputs)\u001b[0m\n\u001b[0;32m   2713\u001b[0m                 \u001b[1;32mreturn\u001b[0m \u001b[0mself\u001b[0m\u001b[1;33m.\u001b[0m\u001b[0m_legacy_call\u001b[0m\u001b[1;33m(\u001b[0m\u001b[0minputs\u001b[0m\u001b[1;33m)\u001b[0m\u001b[1;33m\u001b[0m\u001b[1;33m\u001b[0m\u001b[0m\n\u001b[0;32m   2714\u001b[0m \u001b[1;33m\u001b[0m\u001b[0m\n\u001b[1;32m-> 2715\u001b[1;33m             \u001b[1;32mreturn\u001b[0m \u001b[0mself\u001b[0m\u001b[1;33m.\u001b[0m\u001b[0m_call\u001b[0m\u001b[1;33m(\u001b[0m\u001b[0minputs\u001b[0m\u001b[1;33m)\u001b[0m\u001b[1;33m\u001b[0m\u001b[1;33m\u001b[0m\u001b[0m\n\u001b[0m\u001b[0;32m   2716\u001b[0m         \u001b[1;32melse\u001b[0m\u001b[1;33m:\u001b[0m\u001b[1;33m\u001b[0m\u001b[1;33m\u001b[0m\u001b[0m\n\u001b[0;32m   2717\u001b[0m             \u001b[1;32mif\u001b[0m \u001b[0mpy_any\u001b[0m\u001b[1;33m(\u001b[0m\u001b[0mis_tensor\u001b[0m\u001b[1;33m(\u001b[0m\u001b[0mx\u001b[0m\u001b[1;33m)\u001b[0m \u001b[1;32mfor\u001b[0m \u001b[0mx\u001b[0m \u001b[1;32min\u001b[0m \u001b[0minputs\u001b[0m\u001b[1;33m)\u001b[0m\u001b[1;33m:\u001b[0m\u001b[1;33m\u001b[0m\u001b[1;33m\u001b[0m\u001b[0m\n",
      "\u001b[1;32m~\\Anaconda3\\envs\\GPU\\lib\\site-packages\\keras\\backend\\tensorflow_backend.py\u001b[0m in \u001b[0;36m_call\u001b[1;34m(self, inputs)\u001b[0m\n\u001b[0;32m   2673\u001b[0m             \u001b[0mfetched\u001b[0m \u001b[1;33m=\u001b[0m \u001b[0mself\u001b[0m\u001b[1;33m.\u001b[0m\u001b[0m_callable_fn\u001b[0m\u001b[1;33m(\u001b[0m\u001b[1;33m*\u001b[0m\u001b[0marray_vals\u001b[0m\u001b[1;33m,\u001b[0m \u001b[0mrun_metadata\u001b[0m\u001b[1;33m=\u001b[0m\u001b[0mself\u001b[0m\u001b[1;33m.\u001b[0m\u001b[0mrun_metadata\u001b[0m\u001b[1;33m)\u001b[0m\u001b[1;33m\u001b[0m\u001b[1;33m\u001b[0m\u001b[0m\n\u001b[0;32m   2674\u001b[0m         \u001b[1;32melse\u001b[0m\u001b[1;33m:\u001b[0m\u001b[1;33m\u001b[0m\u001b[1;33m\u001b[0m\u001b[0m\n\u001b[1;32m-> 2675\u001b[1;33m             \u001b[0mfetched\u001b[0m \u001b[1;33m=\u001b[0m \u001b[0mself\u001b[0m\u001b[1;33m.\u001b[0m\u001b[0m_callable_fn\u001b[0m\u001b[1;33m(\u001b[0m\u001b[1;33m*\u001b[0m\u001b[0marray_vals\u001b[0m\u001b[1;33m)\u001b[0m\u001b[1;33m\u001b[0m\u001b[1;33m\u001b[0m\u001b[0m\n\u001b[0m\u001b[0;32m   2676\u001b[0m         \u001b[1;32mreturn\u001b[0m \u001b[0mfetched\u001b[0m\u001b[1;33m[\u001b[0m\u001b[1;33m:\u001b[0m\u001b[0mlen\u001b[0m\u001b[1;33m(\u001b[0m\u001b[0mself\u001b[0m\u001b[1;33m.\u001b[0m\u001b[0moutputs\u001b[0m\u001b[1;33m)\u001b[0m\u001b[1;33m]\u001b[0m\u001b[1;33m\u001b[0m\u001b[1;33m\u001b[0m\u001b[0m\n\u001b[0;32m   2677\u001b[0m \u001b[1;33m\u001b[0m\u001b[0m\n",
      "\u001b[1;32m~\\Anaconda3\\envs\\GPU\\lib\\site-packages\\tensorflow\\python\\client\\session.py\u001b[0m in \u001b[0;36m__call__\u001b[1;34m(self, *args, **kwargs)\u001b[0m\n\u001b[0;32m   1437\u001b[0m           ret = tf_session.TF_SessionRunCallable(\n\u001b[0;32m   1438\u001b[0m               \u001b[0mself\u001b[0m\u001b[1;33m.\u001b[0m\u001b[0m_session\u001b[0m\u001b[1;33m.\u001b[0m\u001b[0m_session\u001b[0m\u001b[1;33m,\u001b[0m \u001b[0mself\u001b[0m\u001b[1;33m.\u001b[0m\u001b[0m_handle\u001b[0m\u001b[1;33m,\u001b[0m \u001b[0margs\u001b[0m\u001b[1;33m,\u001b[0m \u001b[0mstatus\u001b[0m\u001b[1;33m,\u001b[0m\u001b[1;33m\u001b[0m\u001b[1;33m\u001b[0m\u001b[0m\n\u001b[1;32m-> 1439\u001b[1;33m               run_metadata_ptr)\n\u001b[0m\u001b[0;32m   1440\u001b[0m         \u001b[1;32mif\u001b[0m \u001b[0mrun_metadata\u001b[0m\u001b[1;33m:\u001b[0m\u001b[1;33m\u001b[0m\u001b[1;33m\u001b[0m\u001b[0m\n\u001b[0;32m   1441\u001b[0m           \u001b[0mproto_data\u001b[0m \u001b[1;33m=\u001b[0m \u001b[0mtf_session\u001b[0m\u001b[1;33m.\u001b[0m\u001b[0mTF_GetBuffer\u001b[0m\u001b[1;33m(\u001b[0m\u001b[0mrun_metadata_ptr\u001b[0m\u001b[1;33m)\u001b[0m\u001b[1;33m\u001b[0m\u001b[1;33m\u001b[0m\u001b[0m\n",
      "\u001b[1;32m~\\Anaconda3\\envs\\GPU\\lib\\site-packages\\tensorflow\\python\\framework\\errors_impl.py\u001b[0m in \u001b[0;36m__exit__\u001b[1;34m(self, type_arg, value_arg, traceback_arg)\u001b[0m\n\u001b[0;32m    526\u001b[0m             \u001b[1;32mNone\u001b[0m\u001b[1;33m,\u001b[0m \u001b[1;32mNone\u001b[0m\u001b[1;33m,\u001b[0m\u001b[1;33m\u001b[0m\u001b[1;33m\u001b[0m\u001b[0m\n\u001b[0;32m    527\u001b[0m             \u001b[0mcompat\u001b[0m\u001b[1;33m.\u001b[0m\u001b[0mas_text\u001b[0m\u001b[1;33m(\u001b[0m\u001b[0mc_api\u001b[0m\u001b[1;33m.\u001b[0m\u001b[0mTF_Message\u001b[0m\u001b[1;33m(\u001b[0m\u001b[0mself\u001b[0m\u001b[1;33m.\u001b[0m\u001b[0mstatus\u001b[0m\u001b[1;33m.\u001b[0m\u001b[0mstatus\u001b[0m\u001b[1;33m)\u001b[0m\u001b[1;33m)\u001b[0m\u001b[1;33m,\u001b[0m\u001b[1;33m\u001b[0m\u001b[1;33m\u001b[0m\u001b[0m\n\u001b[1;32m--> 528\u001b[1;33m             c_api.TF_GetCode(self.status.status))\n\u001b[0m\u001b[0;32m    529\u001b[0m     \u001b[1;31m# Delete the underlying status object from memory otherwise it stays alive\u001b[0m\u001b[1;33m\u001b[0m\u001b[1;33m\u001b[0m\u001b[1;33m\u001b[0m\u001b[0m\n\u001b[0;32m    530\u001b[0m     \u001b[1;31m# as there is a reference to status from this from the traceback due to\u001b[0m\u001b[1;33m\u001b[0m\u001b[1;33m\u001b[0m\u001b[1;33m\u001b[0m\u001b[0m\n",
      "\u001b[1;31mInternalError\u001b[0m: Blas GEMM launch failed : a.shape=(128, 8000), b.shape=(8000, 1100), m=128, n=1100, k=8000\n\t [[{{node Hidden-1/MatMul}} = MatMul[T=DT_FLOAT, _class=[\"loc:@training/Adam/gradients/Hidden-1/MatMul_grad/MatMul_1\"], transpose_a=false, transpose_b=false, _device=\"/job:localhost/replica:0/task:0/device:GPU:0\"](_arg_Input_0_0/_89, Hidden-1/kernel/read)]]\n\t [[{{node metrics/categorical_crossentropy/Mean/_117}} = _Recv[client_terminated=false, recv_device=\"/job:localhost/replica:0/task:0/device:CPU:0\", send_device=\"/job:localhost/replica:0/task:0/device:GPU:0\", send_device_incarnation=1, tensor_name=\"edge_793_metrics/categorical_crossentropy/Mean\", tensor_type=DT_FLOAT, _device=\"/job:localhost/replica:0/task:0/device:CPU:0\"]()]]"
     ]
    }
   ],
   "source": [
    "#seeds = [random.randint(1, 20000) for _ in range(1)]\n",
    "\n",
    "results_G = []\n",
    "results_T = []\n",
    "\n",
    "x_indicies = list(range(0, 800))\n",
    "   \n",
    "X_tra, X_val, y_tra, y_val = train_test_split(x_indicies, y_train_class, train_size=0.85, random_state=7, stratify=y_train_class)\n",
    "\n",
    "# Select the Samples that have text\n",
    "X_tra_text_idx = [i for i in X_tra if i in train_text_idx]     \n",
    "X_val_text_idx = [i for i in X_val if i in train_text_idx]\n",
    "\n",
    "X_tra_text_idx_map = [train_text_index_map[i] for i in X_tra_text_idx]\n",
    "X_val_text_idx_map = [train_text_index_map[i] for i in X_val_text_idx]\n",
    "\n",
    "print(len(X_tra_text_idx_map), len(X_val_text_idx_map))\n",
    "#Text Samples\n",
    "# y_tra_T = np.take(y_train_dum, X_tra_text_idx, axis=0)\n",
    "# y_val_T = np.take(y_train_dum, X_val_text_idx, axis=0)\n",
    "\n",
    "# X_tra_T = np.take(train_features_svd, X_tra_text_idx_map, axis=0)\n",
    "# X_val_T = np.take(train_features_svd, X_val_text_idx_map, axis=0)\n",
    "\n",
    "y_tra_T = np.take(y_train_dum, X_tra_text_idx, axis=0)\n",
    "y_val_T = np.take(y_train_dum, X_val_text_idx, axis=0) #X_val[70:]\n",
    "\n",
    "X_tra_T = train_features.tocsr()[X_tra_text_idx_map,:]\n",
    "X_val_T = train_features.tocsr()[X_val_text_idx_map,:] #[X_val[70:],:]\n",
    "\n",
    "\n",
    "#Graph Samples\n",
    "X_tra_G = np.take(X_train_G, X_tra, axis=0)\n",
    "X_val_G = np.take(X_train_G, X_val, axis=0)\n",
    "\n",
    "y_tra_G = np.take(y_train_class ,X_tra, axis=0)\n",
    "y_val_G = np.take(y_train_class ,X_val, axis=0)\n",
    "\n",
    "y_val_G_l = np.take(y_train_dum, X_val, axis=0)\n",
    "\n",
    "\n",
    "model_MLP = MLP_model(\n",
    "optimizer=optimizer,\n",
    "input_size=X_tra_T.shape[1],\n",
    "dropout_rate = 0.8,\n",
    "hidden_layers=3,\n",
    "units=1100,\n",
    "funnel=True\n",
    ")\n",
    "\n",
    "model_MLP.fit(x=X_tra_T,\n",
    "              y=y_tra_T,          \n",
    "              validation_data=(X_val_T, y_val_T), \n",
    "              epochs=200,\n",
    "              verbose=1,\n",
    "              batch_size=batch_size,\n",
    "              callbacks = callbacks_list\n",
    "         )    \n",
    "\n",
    "svc = SVC(probability=True, C=1.45, kernel='rbf', gamma=0.035, random_state=2) #C=1.3, gamma=0.4\n",
    "svc.fit(X_tra_G, y_tra_G)\n",
    "\n",
    "\n",
    "y_pred_val_G = svc.predict_proba(X_val_G)    \n",
    "y_pred_val_T = model_MLP.predict(X_val_T)\n",
    "\n",
    "results_G.append(log_loss(y_val_G_l, y_pred_val_G))\n",
    "results_T.append(log_loss(y_val_T, y_pred_val_T))\n",
    "\n",
    "\n",
    "    \n",
    "print('Mean ll')\n",
    "print(mean(results_G))\n",
    "print(mean(results_T))"
   ]
  },
  {
   "cell_type": "code",
   "execution_count": 87,
   "metadata": {},
   "outputs": [
    {
     "data": {
      "text/plain": [
       "137"
      ]
     },
     "execution_count": 87,
     "metadata": {},
     "output_type": "execute_result"
    }
   ],
   "source": [
    "#     K.clear_session()\n",
    "del model_MLP\n",
    "gc.collect()"
   ]
  },
  {
   "cell_type": "code",
   "execution_count": 16,
   "metadata": {
    "collapsed": true
   },
   "outputs": [
    {
     "data": {
      "text/plain": [
       "<matplotlib.axes._subplots.AxesSubplot at 0x1e9e340b0f0>"
      ]
     },
     "execution_count": 16,
     "metadata": {},
     "output_type": "execute_result"
    },
    {
     "data": {
      "image/png": "[encoded data removed]",
      "text/plain": [
       "<Figure size 720x504 with 2 Axes>"
      ]
     },
     "metadata": {
      "needs_background": "light"
     },
     "output_type": "display_data"
    }
   ],
   "source": [
    "test_classes = {0:'athlitismos', 1:'diaskedasi-psyxagogia', 2:'eidiseis-mme',\n",
    "       3:'katastimata-agores', 4:'pliroforiki-diadiktyo'}\n",
    "results = [test_classes[i] for i in np.argmax(y_pred_train_G,axis=1)]\n",
    "cm = confusion_matrix(y_tra,results)\n",
    "plt.figure(figsize = (10,7))\n",
    "sn.heatmap(cm, annot=True)"
   ]
  },
  {
   "cell_type": "code",
   "execution_count": 29,
   "metadata": {},
   "outputs": [],
   "source": [
    "y_pred_test_G = svc.predict_proba(X_test_G)\n",
    "y_pred_test_T = model_MLP.predict(test_features.tocsr())"
   ]
  },
  {
   "cell_type": "code",
   "execution_count": 66,
   "metadata": {},
   "outputs": [
    {
     "name": "stdout",
     "output_type": "stream",
     "text": [
      "c: 123 t: 87 g: 36\n"
     ]
    }
   ],
   "source": [
    "y_test_final = ensemble_predictions(y_pred_test_G, y_pred_test_T, y_pred_test_WL)"
   ]
  },
  {
   "cell_type": "code",
   "execution_count": 65,
   "metadata": {},
   "outputs": [],
   "source": [
    "def ensemble_predictions(y_pred_G, y_pred_T, y_pred_WL,no_text_idx=test_no_text_idx,text_idx=test_text_idx,combine_method='avg_mix' ):\n",
    "    if combine_method=='avg_mix':\n",
    "        t=0\n",
    "        g=0\n",
    "        c=0\n",
    "        y_final_pred = np.zeros((200,5))\n",
    "        for idx in range(len(y_pred_G)):\n",
    "            if idx in no_text_idx:\n",
    "                y_final_pred[idx] = y_pred_G[idx]\n",
    "            else:\n",
    "                graph = y_pred_G[idx]\n",
    "                index_text = text_idx.index(idx)\n",
    "                text = y_pred_T[index_text]\n",
    "                grakel = y_pred_WL[idx]\n",
    "                if np.argmax(graph)==np.argmax(text):\n",
    "                    if max(graph)>max(text):\n",
    "                        y_final_pred[idx] = graph\n",
    "                        g+=1\n",
    "                    else:\n",
    "                        y_final_pred[idx] = text\n",
    "                        t+=1\n",
    "                else:\n",
    "                    y_final_pred[idx] = 0.4*graph + 0.3*text + 0.3*grakel\n",
    "\n",
    "                if np.argmax(grakel)==np.argmax(y_pred_T[index_text]):\n",
    "                    c+=1\n",
    "    print('c:',c,'t:',t,'g:',g)\n",
    "    return y_final_pred\n",
    "        "
   ]
  },
  {
   "cell_type": "code",
   "execution_count": 67,
   "metadata": {},
   "outputs": [],
   "source": [
    "class_labels = {'athlitismos':0, 'diaskedasi-psyxagogia':1, 'eidiseis-mme':2, 'katastimata-agores':3, 'pliroforiki-diadiktyo':4}\n",
    "# Write predictions to a file\n",
    "with open('sample_submission_last_2.csv', 'w') as csvfile:\n",
    "    writer = csv.writer(csvfile, delimiter=',')\n",
    "    lst = list(class_labels.keys())\n",
    "    lst.insert(0, \"Host\")\n",
    "    writer.writerow(lst)\n",
    "    for i,test_host in enumerate(test_hosts):\n",
    "        lst = y_test_final[i,:].tolist()\n",
    "        lst.insert(0, test_host)\n",
    "        writer.writerow(lst)"
   ]
  },
  {
   "cell_type": "code",
   "execution_count": 50,
   "metadata": {},
   "outputs": [],
   "source": [
    "from random import randint\n",
    "from gensim.models import Word2Vec\n",
    "sys.path.insert(0,'C:/Users/User/Desktop/DS_challenge/')\n",
    "from GraphEmbedding.ge import DeepWalk"
   ]
  },
  {
   "cell_type": "code",
   "execution_count": 51,
   "metadata": {},
   "outputs": [],
   "source": [
    "import os\n",
    "import pickle\n",
    "serialized_docs_test_WL_results_dir = 'C:/Users/User/Desktop/DS_challenge/data/serialized_objects/WL_results/train/'\n",
    "filenames = os.listdir(serialized_docs_test_WL_results_dir)\n",
    "\n",
    "train_results = []\n",
    "for file in filenames:\n",
    "    with open(serialized_docs_test_WL_results_dir + file, 'rb') as file:\n",
    "        doc = pickle.load(file)\n",
    "        train_results.append(doc)              \n",
    "\n",
    "serialized_docs_test_WL_results_dir = 'C:/Users/User/Desktop/DS_challenge/data/serialized_objects/WL_results/test/'\n",
    "filenames = os.listdir(serialized_docs_test_WL_results_dir)\n",
    "\n",
    "test_results = []\n",
    "for file in filenames:\n",
    "    with open(serialized_docs_test_WL_results_dir + file, 'rb') as file:\n",
    "        doc = pickle.load(file)\n",
    "        test_results.append(doc)              "
   ]
  },
  {
   "cell_type": "code",
   "execution_count": 52,
   "metadata": {},
   "outputs": [],
   "source": [
    "import numpy as np\n",
    "\n",
    "x_train = []\n",
    "y_train_class = []\n",
    "y_train_dum = []\n",
    "train_probs = []\n",
    "for doc in train_results:\n",
    "    x_train.append(doc['cat_sum'])\n",
    "    train_probs.append(doc['cat_prob'])\n",
    "    y_train_class.append(np.where(doc['y']==1)[0][0])\n",
    "    y_train_dum.append(doc['y'])\n",
    "    \n",
    "x_test = np.zeros((200,5))\n",
    "x_test_prob = np.zeros((200,5))\n",
    "for doc in test_results:\n",
    "    x_test[doc['doc_id']] = doc['cat_sum']\n",
    "    x_test_prob[doc['doc_id']] = doc['cat_prob']"
   ]
  },
  {
   "cell_type": "code",
   "execution_count": 53,
   "metadata": {},
   "outputs": [
    {
     "name": "stdout",
     "output_type": "stream",
     "text": [
      "WL res:\n",
      "0.19232843395578017\n",
      "0.18366625487638547\n"
     ]
    }
   ],
   "source": [
    "x_indicies = list(range(0, 675))\n",
    "X_tra, X_val, y_tra, y_val = train_test_split(x_indicies, y_train_class, train_size=0.90, random_state=3, stratify=y_train_class)\n",
    "\n",
    "X_tra_WL = np.take(x_train, X_tra, axis=0)\n",
    "X_val_WL = np.take(x_train, X_val, axis=0)\n",
    "\n",
    "y_tra_WL = np.take(y_train_dum ,X_tra, axis=0)\n",
    "y_val_WL = np.take(y_train_dum ,X_val, axis=0)\n",
    "\n",
    "svc = SVC(probability=True, C=1, kernel='rbf', gamma=0.0038, random_state=2\n",
    "         )\n",
    "svc.fit(X_tra_WL, y_tra)\n",
    "\n",
    "y_pred_train_WL = svc.predict_proba(X_tra_WL)\n",
    "y_pred_val_WL = svc.predict_proba(X_val_WL)\n",
    "\n",
    "print('WL res:')\n",
    "print(log_loss(y_tra_WL, y_pred_train_WL))\n",
    "print(log_loss(y_val_WL, y_pred_val_WL))"
   ]
  },
  {
   "cell_type": "code",
   "execution_count": 55,
   "metadata": {},
   "outputs": [],
   "source": [
    "y_pred_test_WL = svc.predict_proba(x_test)"
   ]
  }
 ],
 "metadata": {
  "kernelspec": {
   "display_name": "Python 3",
   "language": "python",
   "name": "python3"
  },
  "language_info": {
   "codemirror_mode": {
    "name": "ipython",
    "version": 3
   },
   "file_extension": ".py",
   "mimetype": "text/x-python",
   "name": "python",
   "nbconvert_exporter": "python",
   "pygments_lexer": "ipython3",
   "version": "3.6.8"
  }
 },
 "nbformat": 4,
 "nbformat_minor": 2
}
